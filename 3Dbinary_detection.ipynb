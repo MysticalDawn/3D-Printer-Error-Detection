{
 "cells": [
  {
   "cell_type": "code",
   "execution_count": 2,
   "metadata": {},
   "outputs": [],
   "source": [
    "from IPython.display import clear_output\n",
    "%pip install pandas numpy torch opencv-python torchvision tqdm scikit_learn\n",
    "clear_output()"
   ]
  },
  {
   "cell_type": "code",
   "execution_count": 1,
   "metadata": {},
   "outputs": [],
   "source": [
    "import pandas as pd \n",
    "import numpy as np \n",
    "\n",
    "\n",
    "import torch \n",
    "import torch.nn as nn\n",
    "import torch.nn.functional as F\n",
    "from torch.utils.data import Dataset, DataLoader\n",
    "from torchvision import transforms\n",
    "import torchvision\n",
    "import cv2\n",
    "\n",
    "from tqdm import tqdm\n",
    "from sklearn.model_selection import train_test_split"
   ]
  },
  {
   "cell_type": "code",
   "execution_count": 2,
   "metadata": {},
   "outputs": [
    {
     "data": {
      "text/plain": [
       "'cuda'"
      ]
     },
     "execution_count": 2,
     "metadata": {},
     "output_type": "execute_result"
    }
   ],
   "source": [
    "batch_size = 64\n",
    "\n",
    "# CNN hyperparameters\n",
    "input_channels = 3  # RGB images\n",
    "num_classes = 1 # Binary classification (normal vs anomaly)\n",
    "learning_rate = 0.001\n",
    "num_epochs = 50\n",
    "dropout_rate = 0.5\n",
    "\n",
    "# Define image dimensions\n",
    "img_height = 224\n",
    "img_width = 224\n",
    "\n",
    "# Create a transform to resize images\n",
    "transform = transforms.Compose([\n",
    "    transforms.Resize((img_height, img_width)),\n",
    "    transforms.ToTensor(),\n",
    "])\n",
    "\n",
    "device = 'cuda' if torch.cuda.is_available() else 'cpu'\n",
    "device"
   ]
  },
  {
   "cell_type": "code",
   "execution_count": 3,
   "metadata": {},
   "outputs": [],
   "source": [
    "# Set random seed for reproducibility\n",
    "torch.manual_seed(42)\n",
    "\n",
    "train_dataset = torchvision.datasets.ImageFolder(root='data/train', transform=transform)\n",
    "test_dataset = torchvision.datasets.ImageFolder(root='data/test', transform=transform)"
   ]
  },
  {
   "cell_type": "code",
   "execution_count": 4,
   "metadata": {},
   "outputs": [],
   "source": [
    "# Create dataloaders\n",
    "train_loader = DataLoader(train_dataset, batch_size=batch_size, shuffle=True)\n",
    "test_loader = DataLoader(test_dataset, batch_size=batch_size)"
   ]
  },
  {
   "cell_type": "code",
   "execution_count": 9,
   "metadata": {},
   "outputs": [],
   "source": [
    "class model(nn.Module):\n",
    "    def __init__(self, input_channels, num_classes) -> None:\n",
    "        super().__init__()\n",
    "        self.conv1 = nn.Conv2d(input_channels, 16, 3)\n",
    "        self.conv2 = nn.Conv2d(16, 32, 3)\n",
    "        self.pool = nn.MaxPool2d(2, 2)\n",
    "        self.dropout = nn.\n",
    "        \n",
    "        self.fc1 = None\n",
    "        self.fc2 = nn.Linear(1024, num_classes)\n",
    "    \n",
    "    def forward(self, x):\n",
    "        x = self.pool(F.relu(self.conv1(x)))\n",
    "        x = self.pool(F.relu(self.conv2(x)))\n",
    "        if self.fc1 is None:\n",
    "            self.feature_size = x.shape[1] * x.shape[2] * x.shape[3]\n",
    "            self.fc1 = nn.Linear(self.feature_size, 1024).to(x.device)\n",
    "        \n",
    "        x = torch.flatten(x, 1)  # Flatten the feature maps\n",
    "        x = F.relu(self.fc1(x))\n",
    "        x = self.fc2(x)\n",
    "        return torch.flatten(x)"
   ]
  },
  {
   "cell_type": "code",
   "execution_count": 10,
   "metadata": {},
   "outputs": [
    {
     "name": "stderr",
     "output_type": "stream",
     "text": [
      "Epoch 1/50: 20it [00:11,  1.68it/s]\n",
      "Epoch 2/50: 20it [00:08,  2.37it/s]\n",
      "Epoch 3/50: 20it [00:08,  2.37it/s]\n",
      "Epoch 4/50: 20it [00:08,  2.35it/s]\n",
      "Epoch 5/50: 20it [00:08,  2.38it/s]\n",
      "Epoch 6/50: 20it [00:08,  2.38it/s]\n",
      "Epoch 7/50: 20it [00:08,  2.37it/s]\n",
      "Epoch 8/50: 20it [00:08,  2.37it/s]\n",
      "Epoch 9/50: 20it [00:08,  2.38it/s]\n",
      "Epoch 10/50: 20it [00:08,  2.38it/s]\n",
      "Epoch 11/50: 20it [00:08,  2.38it/s]\n",
      "Epoch 12/50: 20it [00:08,  2.38it/s]\n",
      "Epoch 13/50: 20it [00:08,  2.38it/s]\n",
      "Epoch 14/50: 20it [00:08,  2.38it/s]\n",
      "Epoch 15/50: 20it [00:08,  2.37it/s]\n",
      "Epoch 16/50: 20it [00:08,  2.37it/s]\n",
      "Epoch 17/50: 20it [00:08,  2.37it/s]\n",
      "Epoch 18/50: 20it [00:08,  2.36it/s]\n",
      "Epoch 19/50: 20it [00:08,  2.37it/s]\n",
      "Epoch 20/50: 20it [00:08,  2.25it/s]\n",
      "Epoch 21/50: 20it [00:08,  2.37it/s]\n",
      "Epoch 22/50: 20it [00:08,  2.38it/s]\n",
      "Epoch 23/50: 20it [00:08,  2.32it/s]\n",
      "Epoch 24/50: 20it [00:08,  2.38it/s]\n",
      "Epoch 25/50: 20it [00:08,  2.38it/s]\n",
      "Epoch 26/50: 20it [00:08,  2.37it/s]\n",
      "Epoch 27/50: 20it [00:08,  2.37it/s]\n",
      "Epoch 28/50: 20it [00:08,  2.38it/s]\n",
      "Epoch 29/50: 20it [00:08,  2.38it/s]\n",
      "Epoch 30/50: 20it [00:08,  2.38it/s]\n",
      "Epoch 31/50: 20it [00:08,  2.38it/s]\n",
      "Epoch 32/50: 20it [00:08,  2.33it/s]\n",
      "Epoch 33/50: 20it [00:08,  2.38it/s]\n",
      "Epoch 34/50: 20it [00:08,  2.37it/s]\n",
      "Epoch 35/50: 20it [00:08,  2.37it/s]\n",
      "Epoch 36/50: 20it [00:08,  2.38it/s]\n",
      "Epoch 37/50: 20it [00:08,  2.37it/s]\n",
      "Epoch 38/50: 20it [00:08,  2.29it/s]\n",
      "Epoch 39/50: 20it [00:08,  2.32it/s]\n",
      "Epoch 40/50: 20it [00:08,  2.37it/s]\n",
      "Epoch 41/50: 20it [00:08,  2.37it/s]\n",
      "Epoch 42/50: 20it [00:08,  2.37it/s]\n",
      "Epoch 43/50: 20it [00:08,  2.37it/s]\n",
      "Epoch 44/50: 20it [00:08,  2.37it/s]\n",
      "Epoch 45/50: 20it [00:08,  2.37it/s]\n",
      "Epoch 46/50: 20it [00:08,  2.38it/s]\n",
      "Epoch 47/50: 20it [00:08,  2.38it/s]\n",
      "Epoch 48/50: 20it [00:08,  2.37it/s]\n",
      "Epoch 49/50: 20it [00:08,  2.37it/s]\n",
      "Epoch 50/50: 20it [00:08,  2.37it/s]\n"
     ]
    }
   ],
   "source": [
    "model = model(input_channels, num_classes).to(device)\n",
    "optimizer = torch.optim.SGD(model.parameters(), lr=0.001, momentum=0.9)\n",
    "loss_fn = nn.BCEWithLogitsLoss()\n",
    "\n",
    "for epoch in range(num_epochs):\n",
    "    model.train()\n",
    "    train_loss = 0.0\n",
    "    train_correct = 0\n",
    "    train_total = 0\n",
    "    \n",
    "    for batch, (inputs, labels) in tqdm(enumerate(train_loader), desc=f\"Epoch {epoch+1}/{num_epochs}\"):\n",
    "        inputs, labels = inputs.to(device), labels.to(device)\n",
    "        \n",
    "        # Forward Pass\n",
    "        outputs = model(inputs)\n",
    "        loss = loss_fn(outputs, labels.float())\n",
    "        \n",
    "        # Backward Pass and Optimization\n",
    "        optimizer.zero_grad()\n",
    "        loss.backward()\n",
    "        optimizer.step()\n",
    "        \n",
    "        train_loss += loss.item()\n",
    "        predicted = (outputs > 0).float()\n",
    "        train_correct += (predicted == labels).sum().item()\n",
    "        train_total += labels.size(0)\n",
    "    \n",
    "    train_loss /= len(train_loader)\n",
    "    train_accuracy = 100 * train_correct / train_total"
   ]
  },
  {
   "cell_type": "code",
   "execution_count": null,
   "metadata": {},
   "outputs": [
    {
     "name": "stdout",
     "output_type": "stream",
     "text": [
      "Test Accuracy: 88.82%, Test Loss: 0.3776\n"
     ]
    }
   ],
   "source": [
    "test_loss = 0\n",
    "test_correct = 0\n",
    "test_total = 0\n",
    "\n",
    "with torch.no_grad():\n",
    "    model.eval()\n",
    "    for inputs, labels in test_loader:\n",
    "        inputs, labels = inputs.to(device), labels.to(device)\n",
    "        outputs = model(inputs)\n",
    "        loss = loss_fn(outputs, labels.float())\n",
    "        test_loss += loss.item()\n",
    "        predicted = (outputs > 0.5).float()  # binary classification\n",
    "        test_correct += (predicted == labels).sum().item()\n",
    "        test_total += labels.size(0)\n",
    "\n",
    "test_loss /= len(test_loader)\n",
    "test_accuracy = 100 * test_correct / test_total\n",
    "\n",
    "print(f\"Test Accuracy: {test_accuracy:.2f}%, Test Loss: {test_loss:.4f}\")"
   ]
  },
  {
   "cell_type": "code",
   "execution_count": null,
   "metadata": {},
   "outputs": [],
   "source": []
  }
 ],
 "metadata": {
  "kernelspec": {
   "display_name": "Python 3 (ipykernel)",
   "language": "python",
   "name": "python3"
  }
 },
 "nbformat": 4,
 "nbformat_minor": 2
}
