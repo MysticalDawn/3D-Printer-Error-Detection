{
 "cells": [
  {
   "cell_type": "markdown",
   "metadata": {},
   "source": [
    "Import Libraries"
   ]
  },
  {
   "cell_type": "code",
   "execution_count": 21,
   "metadata": {},
   "outputs": [],
   "source": [
    "import pandas as pd \n",
    "import os\n",
    "import shutil\n",
    "import torch\n",
    "import numpy as np\n",
    "from torch.utils.data import Dataset\n",
    "from torchvision import datasets, models, transforms\n",
    "from torchvision.transforms import ToTensor\n",
    "import PIL\n",
    "from torch.utils.data import DataLoader\n",
    "import torch.nn as nn\n",
    "import torch.optim as optim\n",
    "import sklearn\n",
    "from sklearn import metrics"
   ]
  },
  {
   "cell_type": "code",
   "execution_count": 2,
   "metadata": {},
   "outputs": [
    {
     "name": "stdout",
     "output_type": "stream",
     "text": [
      "[0 0 1 0]\n"
     ]
    }
   ],
   "source": [
    "folder_path = 'Data'\n",
    "train_path = folder_path+'/train'\n",
    "val_path = folder_path+'/valid'\n",
    "test_path = folder_path+'/test'\n",
    "train_csv = pd.read_csv(train_path+'/_classes.csv')\n",
    "val_csv = pd.read_csv(val_path+'/_classes.csv')\n",
    "test_csv = pd.read_csv(test_path+'/_classes.csv')\n",
    "frame = pd.concat((train_csv,val_csv,test_csv), axis=0, ignore_index=True)\n",
    "# frame.to_csv(folder_path+'/classes.csv',index=False)\n",
    "# files = os.listdir(train_path)\n",
    "# shutil.copytree(train_path, folder_path+'/allData')\n",
    "# shutil.copytree(test_path, folder_path+'/allData')\n",
    "# shutil.copytreev(val_path, folder_path+'/allData')\n",
    "print(train_csv.iloc[0][1:5].values)"
   ]
  },
  {
   "cell_type": "code",
   "execution_count": 3,
   "metadata": {},
   "outputs": [],
   "source": [
    "class CustomDataset(torch.utils.data.Dataset):\n",
    "    def __init__(self, csv_path, images_folder, transform = None):\n",
    "        self.df = pd.read_csv(csv_path)\n",
    "        self.images_folder = images_folder\n",
    "        self.transform = transform\n",
    "\n",
    "    def __len__(self):\n",
    "        return len(self.df)\n",
    "    def __getitem__(self, index):\n",
    "        filename = self.df.loc[index]['filename']\n",
    "        labels = self.df.iloc[index][1:].values.astype(float)\n",
    "        image = PIL.Image.open(os.path.join(self.images_folder, filename))\n",
    "        if self.transform is not None:\n",
    "            image = self.transform(image)\n",
    "        return image, torch.tensor(labels)"
   ]
  },
  {
   "cell_type": "code",
   "execution_count": 4,
   "metadata": {},
   "outputs": [
    {
     "name": "stdout",
     "output_type": "stream",
     "text": [
      "<bound method NDFrame.head of                                                filename   OK   spaghetti  \\\n",
      "0     stringing_158_jpg.rf.18396c1d56a508411952d165f...    0           0   \n",
      "1     stringing_111_jpg.rf.18df0b478a32919a335ff2c95...    0           0   \n",
      "2     spaghetti_32_jpg.rf.19ef7bfb0484134b619e003086...    0           1   \n",
      "3     OK_37_jpg.rf.17dd174f9b97c1f4a4a13d3ba567971d.jpg    1           0   \n",
      "4     stringing_122_jpg.rf.1b1bef7f4adc5cfbcee2cd541...    0           0   \n",
      "...                                                 ...  ...         ...   \n",
      "2015  spaghetti_112_jpg.rf.f1c6d92a208d3e15197e84e66...    0           1   \n",
      "2016  OK_68_jpg.rf.fb96a134c9cc26c956167fb36c2cce8c.jpg    1           0   \n",
      "2017  blobs_90_jpg.rf.fa0652a2dbf773df332b408fc9fc24...    0           0   \n",
      "2018  OK2_3_jpg.rf.f5e5da9eadb6daa98dfa00fe6e01e695.jpg    1           0   \n",
      "2019  OK2_15_jpg.rf.f4cd78da0ebdaf958f7eb7fd35b43d8a...    1           0   \n",
      "\n",
      "       stringing   unsmooth_surface  \n",
      "0              1                  0  \n",
      "1              1                  0  \n",
      "2              0                  0  \n",
      "3              0                  0  \n",
      "4              1                  0  \n",
      "...          ...                ...  \n",
      "2015           0                  0  \n",
      "2016           0                  0  \n",
      "2017           0                  1  \n",
      "2018           0                  0  \n",
      "2019           0                  0  \n",
      "\n",
      "[2020 rows x 5 columns]>\n"
     ]
    }
   ],
   "source": [
    "data_path = folder_path + '/allData'\n",
    "df = pd.read_csv(folder_path+'/classes.csv')\n",
    "print(df.head)\n",
    "transform = transforms.Compose([\n",
    "    transforms.ToTensor(),\n",
    "    transforms.Resize((224, 224)),\n",
    "    transforms.Normalize([0.485, 0.456, 0.406], [0.229, 0.224, 0.225]),\n",
    "])\n",
    "dataset = CustomDataset(folder_path+'/classes.csv', data_path, transform=transform)\n",
    "train_dataset, test_dataset = torch.utils.data.random_split(dataset, [0.9, 0.1])"
   ]
  },
  {
   "cell_type": "code",
   "execution_count": 5,
   "metadata": {},
   "outputs": [
    {
     "name": "stderr",
     "output_type": "stream",
     "text": [
      "c:\\Users\\aalqa\\anaconda3\\envs\\cs323\\lib\\site-packages\\torchvision\\models\\_utils.py:208: UserWarning: The parameter 'pretrained' is deprecated since 0.13 and may be removed in the future, please use 'weights' instead.\n",
      "  warnings.warn(\n",
      "c:\\Users\\aalqa\\anaconda3\\envs\\cs323\\lib\\site-packages\\torchvision\\models\\_utils.py:223: UserWarning: Arguments other than a weight enum or `None` for 'weights' are deprecated since 0.13 and may be removed in the future. The current behavior is equivalent to passing `weights=ResNet18_Weights.IMAGENET1K_V1`. You can also use `weights=ResNet18_Weights.DEFAULT` to get the most up-to-date weights.\n",
      "  warnings.warn(msg)\n"
     ]
    },
    {
     "name": "stdout",
     "output_type": "stream",
     "text": [
      "False\n",
      "False\n",
      "False\n",
      "False\n",
      "False\n",
      "False\n",
      "False\n",
      "False\n",
      "False\n",
      "False\n",
      "False\n",
      "False\n",
      "False\n",
      "False\n",
      "False\n",
      "False\n",
      "False\n",
      "False\n",
      "False\n",
      "False\n",
      "False\n",
      "False\n",
      "False\n",
      "False\n",
      "False\n",
      "False\n",
      "False\n",
      "False\n",
      "False\n",
      "False\n",
      "False\n",
      "False\n",
      "False\n",
      "False\n",
      "False\n",
      "False\n",
      "False\n",
      "False\n",
      "False\n",
      "False\n",
      "False\n",
      "False\n",
      "False\n",
      "False\n",
      "False\n",
      "False\n",
      "False\n",
      "False\n",
      "False\n",
      "False\n",
      "False\n",
      "False\n",
      "False\n",
      "False\n",
      "False\n",
      "False\n",
      "False\n",
      "False\n",
      "False\n",
      "False\n",
      "True\n",
      "True\n"
     ]
    }
   ],
   "source": [
    "num_of_classes = 4\n",
    "model = models.resnet18(pretrained=True)\n",
    "for param in model.parameters():\n",
    "    param.requires_grad = False\n",
    "num_ftrs = model.fc.in_features\n",
    "model.fc = nn.Linear(num_ftrs, num_of_classes)\n",
    "\n",
    "for param in model.parameters():\n",
    "    print(param.requires_grad)\n"
   ]
  },
  {
   "cell_type": "code",
   "execution_count": 6,
   "metadata": {},
   "outputs": [],
   "source": [
    "criterion = nn.CrossEntropyLoss()\n",
    "optimizer = optim.SGD(model.parameters(), lr=0.001, momentum=0.9)\n",
    "\n",
    "trainLoader =  DataLoader(train_dataset, batch_size=32, shuffle=True)\n",
    "testLoader =  DataLoader(test_dataset, batch_size=32, shuffle=False)\n"
   ]
  },
  {
   "cell_type": "code",
   "execution_count": 17,
   "metadata": {},
   "outputs": [
    {
     "name": "stdout",
     "output_type": "stream",
     "text": [
      "[1,     6] loss: 0.002\n",
      "[1,    16] loss: 0.003\n",
      "[1,    26] loss: 0.003\n",
      "[1,    36] loss: 0.003\n",
      "[1,    46] loss: 0.003\n",
      "[1,    56] loss: 0.003\n",
      "[2,     6] loss: 0.002\n",
      "[2,    16] loss: 0.003\n",
      "[2,    26] loss: 0.003\n",
      "[2,    36] loss: 0.003\n",
      "[2,    46] loss: 0.003\n",
      "[2,    56] loss: 0.003\n",
      "[3,     6] loss: 0.002\n",
      "[3,    16] loss: 0.003\n",
      "[3,    26] loss: 0.003\n",
      "[3,    36] loss: 0.002\n",
      "[3,    46] loss: 0.003\n",
      "[3,    56] loss: 0.002\n",
      "[4,     6] loss: 0.001\n",
      "[4,    16] loss: 0.002\n",
      "[4,    26] loss: 0.003\n",
      "[4,    36] loss: 0.003\n",
      "[4,    46] loss: 0.002\n",
      "[4,    56] loss: 0.002\n",
      "[5,     6] loss: 0.001\n",
      "[5,    16] loss: 0.002\n",
      "[5,    26] loss: 0.002\n",
      "[5,    36] loss: 0.002\n",
      "[5,    46] loss: 0.002\n",
      "[5,    56] loss: 0.002\n",
      "[6,     6] loss: 0.001\n",
      "[6,    16] loss: 0.002\n",
      "[6,    26] loss: 0.002\n",
      "[6,    36] loss: 0.002\n",
      "[6,    46] loss: 0.002\n",
      "[6,    56] loss: 0.002\n",
      "[7,     6] loss: 0.001\n",
      "[7,    16] loss: 0.002\n",
      "[7,    26] loss: 0.002\n",
      "[7,    36] loss: 0.002\n",
      "[7,    46] loss: 0.002\n",
      "[7,    56] loss: 0.002\n",
      "[8,     6] loss: 0.001\n",
      "[8,    16] loss: 0.002\n",
      "[8,    26] loss: 0.002\n",
      "[8,    36] loss: 0.002\n",
      "[8,    46] loss: 0.002\n",
      "[8,    56] loss: 0.002\n",
      "[9,     6] loss: 0.001\n",
      "[9,    16] loss: 0.002\n",
      "[9,    26] loss: 0.002\n",
      "[9,    36] loss: 0.002\n",
      "[9,    46] loss: 0.002\n",
      "[9,    56] loss: 0.002\n",
      "[10,     6] loss: 0.001\n",
      "[10,    16] loss: 0.002\n",
      "[10,    26] loss: 0.002\n",
      "[10,    36] loss: 0.002\n",
      "[10,    46] loss: 0.002\n",
      "[10,    56] loss: 0.002\n",
      "Finished Training\n"
     ]
    }
   ],
   "source": [
    "for epoch in range(10):\n",
    "\n",
    "    running_loss = 0.0\n",
    "    train_loss_history = []\n",
    "    for i, data in enumerate(trainLoader):\n",
    "        inputs, labels = data\n",
    "        optimizer.zero_grad()\n",
    "        outputs = model(inputs)\n",
    "        loss = criterion(outputs, labels)\n",
    "        loss.backward()\n",
    "        optimizer.step()\n",
    "        running_loss += loss.item()\n",
    "        if i % 10 == 5:\n",
    "            print(f'[{epoch + 1}, {i + 1:5d}] loss: {running_loss / 2000:.3f}')\n",
    "            running_loss = 0.0\n",
    "\n",
    "print('Finished Training')"
   ]
  },
  {
   "cell_type": "code",
   "execution_count": 18,
   "metadata": {},
   "outputs": [
    {
     "name": "stdout",
     "output_type": "stream",
     "text": [
      "tensor([3, 2, 3, 0, 0, 3, 3, 0, 3, 2, 3, 1, 2, 3, 1, 0, 3, 1, 0, 0, 0, 3, 1, 3,\n",
      "        2, 0, 0, 3, 3, 3, 3, 2])\n",
      "tensor([2, 3, 2, 1, 2, 2, 2, 3, 0, 3, 0, 1, 2, 3, 2, 0, 0, 2, 3, 0, 2, 0, 2, 1,\n",
      "        2, 2, 2, 3, 2, 3, 3, 3])\n",
      "tensor([3, 0, 3, 0, 0, 1, 3, 0, 0, 0, 2, 3, 0, 2, 2, 3, 2, 3, 1, 2, 0, 0, 0, 3,\n",
      "        0, 1, 1, 1, 0, 3, 2, 0])\n",
      "tensor([3, 3, 0, 0, 2, 1, 3, 2, 0, 0, 2, 0, 2, 0, 0, 1, 1, 0, 2, 0, 3, 0, 2, 0,\n",
      "        0, 3, 3, 0, 3, 0, 2, 0])\n",
      "tensor([0, 0, 2, 0, 0, 3, 0, 2, 3, 3, 2, 1, 3, 1, 3, 2, 2, 2, 0, 3, 3, 2, 0, 3,\n",
      "        3, 3, 3, 3, 3, 0, 1, 1])\n",
      "tensor([3, 0, 1, 2, 1, 3, 2, 2, 0, 2, 2, 1, 2, 3, 3, 3, 3, 2, 0, 2, 2, 2, 0, 3,\n",
      "        0, 1, 2, 0, 3, 2, 0, 2])\n",
      "tensor([2, 0, 2, 0, 0, 0, 2, 0, 2, 1])\n",
      "Test Accuracy: 83.17%\n"
     ]
    }
   ],
   "source": [
    "model.eval()\n",
    "\n",
    "correct = 0\n",
    "total = 0\n",
    "with torch.no_grad():\n",
    "    for inputs, labels in testLoader:\n",
    "        outputs = model(inputs)\n",
    "        _, predicted = torch.max(outputs, 1)\n",
    "        _, real = torch.max(labels, 1)\n",
    "        total += labels.size(0)\n",
    "        print(real)\n",
    "        correct += (predicted == real).sum().item()\n",
    "\n",
    "accuracy = correct / total * 100\n",
    "print(f'Test Accuracy: {accuracy:.2f}%')\n",
    "        "
   ]
  },
  {
   "cell_type": "code",
   "execution_count": null,
   "metadata": {},
   "outputs": [],
   "source": []
  },
  {
   "cell_type": "code",
   "execution_count": null,
   "metadata": {},
   "outputs": [],
   "source": []
  }
 ],
 "metadata": {
  "kernelspec": {
   "display_name": "Python 3",
   "language": "python",
   "name": "python3"
  },
  "language_info": {
   "codemirror_mode": {
    "name": "ipython",
    "version": 3
   },
   "file_extension": ".py",
   "mimetype": "text/x-python",
   "name": "python",
   "nbconvert_exporter": "python",
   "pygments_lexer": "ipython3",
   "version": "3.9.19"
  }
 },
 "nbformat": 4,
 "nbformat_minor": 2
}
